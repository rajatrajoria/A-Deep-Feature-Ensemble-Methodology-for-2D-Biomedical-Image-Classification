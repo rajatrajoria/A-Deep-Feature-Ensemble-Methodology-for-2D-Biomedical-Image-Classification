{
  "cells": [
    {
      "cell_type": "code",
      "execution_count": null,
      "metadata": {
        "colab": {
          "base_uri": "https://localhost:8080/"
        },
        "id": "guOofT1aUqW4",
        "outputId": "12be1bed-421f-4e59-9355-ecdd801fba64"
      },
      "outputs": [
        {
          "name": "stdout",
          "output_type": "stream",
          "text": [
            "Drive already mounted at /content/drive; to attempt to forcibly remount, call drive.mount(\"/content/drive\", force_remount=True).\n"
          ]
        }
      ],
      "source": [
        "from google.colab import drive\n",
        "drive.mount('/content/drive')"
      ]
    },
    {
      "cell_type": "markdown",
      "metadata": {},
      "source": [
        "Required Imports"
      ]
    },
    {
      "cell_type": "code",
      "execution_count": null,
      "metadata": {
        "execution": {
          "iopub.execute_input": "2023-10-15T21:21:41.866277Z",
          "iopub.status.busy": "2023-10-15T21:21:41.865839Z",
          "iopub.status.idle": "2023-10-15T21:21:50.454241Z",
          "shell.execute_reply": "2023-10-15T21:21:50.453025Z",
          "shell.execute_reply.started": "2023-10-15T21:21:41.866241Z"
        },
        "id": "0d2GcKdBUhnh",
        "trusted": true
      },
      "outputs": [],
      "source": [
        "import tensorflow as tf\n",
        "import pandas as pd\n",
        "import numpy as np\n",
        "from keras.models import Model\n",
        "from keras.applications.densenet import DenseNet121\n",
        "from keras.applications.inception_v3 import InceptionV3"
      ]
    },
    {
      "cell_type": "markdown",
      "metadata": {},
      "source": [
        "Downloading the DermaMNIST dataset"
      ]
    },
    {
      "cell_type": "code",
      "execution_count": null,
      "metadata": {
        "colab": {
          "base_uri": "https://localhost:8080/"
        },
        "execution": {
          "iopub.execute_input": "2023-10-15T21:38:11.030352Z",
          "iopub.status.busy": "2023-10-15T21:38:11.029989Z",
          "iopub.status.idle": "2023-10-15T21:38:46.346898Z",
          "shell.execute_reply": "2023-10-15T21:38:46.345747Z",
          "shell.execute_reply.started": "2023-10-15T21:38:11.030323Z"
        },
        "id": "fBmVEgR4Uhnq",
        "outputId": "ec447b5c-d7e7-4f6a-9238-7215c7e42862",
        "trusted": true
      },
      "outputs": [
        {
          "name": "stdout",
          "output_type": "stream",
          "text": [
            "Requirement already satisfied: medmnist in /usr/local/lib/python3.10/dist-packages (2.2.3)\n",
            "Requirement already satisfied: numpy in /usr/local/lib/python3.10/dist-packages (from medmnist) (1.23.5)\n",
            "Requirement already satisfied: pandas in /usr/local/lib/python3.10/dist-packages (from medmnist) (1.5.3)\n",
            "Requirement already satisfied: scikit-learn in /usr/local/lib/python3.10/dist-packages (from medmnist) (1.2.2)\n",
            "Requirement already satisfied: scikit-image in /usr/local/lib/python3.10/dist-packages (from medmnist) (0.19.3)\n",
            "Requirement already satisfied: tqdm in /usr/local/lib/python3.10/dist-packages (from medmnist) (4.66.1)\n",
            "Requirement already satisfied: Pillow in /usr/local/lib/python3.10/dist-packages (from medmnist) (9.4.0)\n",
            "Requirement already satisfied: fire in /usr/local/lib/python3.10/dist-packages (from medmnist) (0.5.0)\n",
            "Requirement already satisfied: torch in /usr/local/lib/python3.10/dist-packages (from medmnist) (2.0.1+cu118)\n",
            "Requirement already satisfied: torchvision in /usr/local/lib/python3.10/dist-packages (from medmnist) (0.15.2+cu118)\n",
            "Requirement already satisfied: six in /usr/local/lib/python3.10/dist-packages (from fire->medmnist) (1.16.0)\n",
            "Requirement already satisfied: termcolor in /usr/local/lib/python3.10/dist-packages (from fire->medmnist) (2.3.0)\n",
            "Requirement already satisfied: python-dateutil>=2.8.1 in /usr/local/lib/python3.10/dist-packages (from pandas->medmnist) (2.8.2)\n",
            "Requirement already satisfied: pytz>=2020.1 in /usr/local/lib/python3.10/dist-packages (from pandas->medmnist) (2023.3.post1)\n",
            "Requirement already satisfied: scipy>=1.4.1 in /usr/local/lib/python3.10/dist-packages (from scikit-image->medmnist) (1.11.3)\n",
            "Requirement already satisfied: networkx>=2.2 in /usr/local/lib/python3.10/dist-packages (from scikit-image->medmnist) (3.1)\n",
            "Requirement already satisfied: imageio>=2.4.1 in /usr/local/lib/python3.10/dist-packages (from scikit-image->medmnist) (2.31.5)\n",
            "Requirement already satisfied: tifffile>=2019.7.26 in /usr/local/lib/python3.10/dist-packages (from scikit-image->medmnist) (2023.9.26)\n",
            "Requirement already satisfied: PyWavelets>=1.1.1 in /usr/local/lib/python3.10/dist-packages (from scikit-image->medmnist) (1.4.1)\n",
            "Requirement already satisfied: packaging>=20.0 in /usr/local/lib/python3.10/dist-packages (from scikit-image->medmnist) (23.2)\n",
            "Requirement already satisfied: joblib>=1.1.1 in /usr/local/lib/python3.10/dist-packages (from scikit-learn->medmnist) (1.3.2)\n",
            "Requirement already satisfied: threadpoolctl>=2.0.0 in /usr/local/lib/python3.10/dist-packages (from scikit-learn->medmnist) (3.2.0)\n",
            "Requirement already satisfied: filelock in /usr/local/lib/python3.10/dist-packages (from torch->medmnist) (3.12.4)\n",
            "Requirement already satisfied: typing-extensions in /usr/local/lib/python3.10/dist-packages (from torch->medmnist) (4.5.0)\n",
            "Requirement already satisfied: sympy in /usr/local/lib/python3.10/dist-packages (from torch->medmnist) (1.12)\n",
            "Requirement already satisfied: jinja2 in /usr/local/lib/python3.10/dist-packages (from torch->medmnist) (3.1.2)\n",
            "Requirement already satisfied: triton==2.0.0 in /usr/local/lib/python3.10/dist-packages (from torch->medmnist) (2.0.0)\n",
            "Requirement already satisfied: cmake in /usr/local/lib/python3.10/dist-packages (from triton==2.0.0->torch->medmnist) (3.27.6)\n",
            "Requirement already satisfied: lit in /usr/local/lib/python3.10/dist-packages (from triton==2.0.0->torch->medmnist) (17.0.2)\n",
            "Requirement already satisfied: requests in /usr/local/lib/python3.10/dist-packages (from torchvision->medmnist) (2.31.0)\n",
            "Requirement already satisfied: MarkupSafe>=2.0 in /usr/local/lib/python3.10/dist-packages (from jinja2->torch->medmnist) (2.1.3)\n",
            "Requirement already satisfied: charset-normalizer<4,>=2 in /usr/local/lib/python3.10/dist-packages (from requests->torchvision->medmnist) (3.3.0)\n",
            "Requirement already satisfied: idna<4,>=2.5 in /usr/local/lib/python3.10/dist-packages (from requests->torchvision->medmnist) (3.4)\n",
            "Requirement already satisfied: urllib3<3,>=1.21.1 in /usr/local/lib/python3.10/dist-packages (from requests->torchvision->medmnist) (2.0.6)\n",
            "Requirement already satisfied: certifi>=2017.4.17 in /usr/local/lib/python3.10/dist-packages (from requests->torchvision->medmnist) (2023.7.22)\n",
            "Requirement already satisfied: mpmath>=0.19 in /usr/local/lib/python3.10/dist-packages (from sympy->torch->medmnist) (1.3.0)\n",
            "Using downloaded and verified file: /root/.medmnist/dermamnist.npz\n",
            "Using downloaded and verified file: /root/.medmnist/dermamnist.npz\n",
            "Using downloaded and verified file: /root/.medmnist/dermamnist.npz\n"
          ]
        }
      ],
      "source": [
        "!pip install medmnist\n",
        "from medmnist import DermaMNIST\n",
        "dataset_train = DermaMNIST(split=\"train\", download=True)\n",
        "dataset_validate = DermaMNIST(split=\"val\", download=True)\n",
        "dataset_test = DermaMNIST(split=\"test\", download=True)"
      ]
    },
    {
      "cell_type": "markdown",
      "metadata": {},
      "source": [
        "Shape of original images"
      ]
    },
    {
      "cell_type": "code",
      "execution_count": null,
      "metadata": {
        "colab": {
          "base_uri": "https://localhost:8080/"
        },
        "execution": {
          "iopub.execute_input": "2023-10-15T21:38:57.382428Z",
          "iopub.status.busy": "2023-10-15T21:38:57.382007Z",
          "iopub.status.idle": "2023-10-15T21:38:57.394562Z",
          "shell.execute_reply": "2023-10-15T21:38:57.393661Z",
          "shell.execute_reply.started": "2023-10-15T21:38:57.382393Z"
        },
        "id": "YLzyoyrqUhnr",
        "outputId": "52bb391e-a268-4d61-c29f-ba66cabacf2e",
        "trusted": true
      },
      "outputs": [
        {
          "name": "stdout",
          "output_type": "stream",
          "text": [
            "(7007, 28, 28, 3) (7007, 1) (28, 28, 3)\n"
          ]
        }
      ],
      "source": [
        "x_train, y_train = dataset_train.imgs, dataset_train.labels\n",
        "x_test, y_test = dataset_test.imgs, dataset_test.labels\n",
        "x_val, y_val = dataset_validate.imgs, dataset_validate.labels\n",
        "\n",
        "print(x_train.shape, y_train.shape, x_train[0].shape)"
      ]
    },
    {
      "cell_type": "markdown",
      "metadata": {},
      "source": [
        "Preprocessing the images"
      ]
    },
    {
      "cell_type": "code",
      "execution_count": null,
      "metadata": {
        "execution": {
          "iopub.execute_input": "2023-10-15T21:38:59.294529Z",
          "iopub.status.busy": "2023-10-15T21:38:59.294207Z",
          "iopub.status.idle": "2023-10-15T21:38:59.299645Z",
          "shell.execute_reply": "2023-10-15T21:38:59.298698Z",
          "shell.execute_reply.started": "2023-10-15T21:38:59.294503Z"
        },
        "id": "lEbp4_iRUhns",
        "trusted": true
      },
      "outputs": [],
      "source": [
        "import cv2\n",
        "import numpy as np\n",
        "\n",
        "def preprocess_images(images):\n",
        "    preprocessed_images = []\n",
        "    for image in images:\n",
        "        resized_image = cv2.resize(image, (192, 192))\n",
        "        preprocessed_images.append(resized_image)\n",
        "    return np.array(preprocessed_images)"
      ]
    },
    {
      "cell_type": "code",
      "execution_count": null,
      "metadata": {
        "colab": {
          "base_uri": "https://localhost:8080/"
        },
        "execution": {
          "iopub.execute_input": "2023-10-15T21:39:00.808187Z",
          "iopub.status.busy": "2023-10-15T21:39:00.807831Z",
          "iopub.status.idle": "2023-10-15T21:39:02.644697Z",
          "shell.execute_reply": "2023-10-15T21:39:02.643794Z",
          "shell.execute_reply.started": "2023-10-15T21:39:00.808159Z"
        },
        "id": "TEGaqx9gUhnt",
        "outputId": "c644aad3-35c8-40a7-c0a1-f90998574076",
        "trusted": true
      },
      "outputs": [
        {
          "data": {
            "text/plain": [
              "((7007, 192, 192, 3), (2005, 192, 192, 3), (1003, 192, 192, 3))"
            ]
          },
          "execution_count": 17,
          "metadata": {},
          "output_type": "execute_result"
        }
      ],
      "source": [
        "resized_x_train = preprocess_images(x_train)\n",
        "resized_x_test = preprocess_images(x_test)\n",
        "resized_x_val = preprocess_images(x_val)\n",
        "resized_x_train.shape, resized_x_test.shape, resized_x_val.shape"
      ]
    },
    {
      "cell_type": "code",
      "execution_count": null,
      "metadata": {
        "execution": {
          "iopub.execute_input": "2023-10-15T21:39:02.869265Z",
          "iopub.status.busy": "2023-10-15T21:39:02.868443Z",
          "iopub.status.idle": "2023-10-15T21:39:11.412042Z",
          "shell.execute_reply": "2023-10-15T21:39:11.411044Z",
          "shell.execute_reply.started": "2023-10-15T21:39:02.869221Z"
        },
        "id": "B0HytALiUhnv",
        "trusted": true
      },
      "outputs": [],
      "source": [
        "#The path has to be updated accordingly - Put the correct path to pre-trained DenseNet121 and InceptionV3 models here\n",
        "model1 = tf.keras.models.load_model('/content/DermaMNIST_DenseNet121.h5')\n",
        "model2 = tf.keras.models.load_model('/content/DermaMNIST_InceptionV3.h5')"
      ]
    },
    {
      "cell_type": "code",
      "execution_count": null,
      "metadata": {
        "execution": {
          "iopub.execute_input": "2023-10-15T21:39:11.414947Z",
          "iopub.status.busy": "2023-10-15T21:39:11.414587Z",
          "iopub.status.idle": "2023-10-15T21:39:11.418912Z",
          "shell.execute_reply": "2023-10-15T21:39:11.417988Z",
          "shell.execute_reply.started": "2023-10-15T21:39:11.414914Z"
        },
        "id": "jmEpkLqIUhnw",
        "trusted": true
      },
      "outputs": [],
      "source": [
        "num_samples = len(resized_x_test)\n",
        "num_classes = 7"
      ]
    },
    {
      "cell_type": "code",
      "execution_count": null,
      "metadata": {
        "colab": {
          "base_uri": "https://localhost:8080/"
        },
        "execution": {
          "iopub.execute_input": "2023-10-15T21:39:11.420696Z",
          "iopub.status.busy": "2023-10-15T21:39:11.420165Z",
          "iopub.status.idle": "2023-10-15T21:39:11.431780Z",
          "shell.execute_reply": "2023-10-15T21:39:11.430581Z",
          "shell.execute_reply.started": "2023-10-15T21:39:11.420661Z"
        },
        "id": "Ui9sTUoYUhnx",
        "outputId": "8d156142-d12a-493a-a140-61ce1ef2216b",
        "trusted": true
      },
      "outputs": [
        {
          "name": "stdout",
          "output_type": "stream",
          "text": [
            "2005\n"
          ]
        }
      ],
      "source": [
        "print(num_samples)"
      ]
    },
    {
      "cell_type": "code",
      "execution_count": null,
      "metadata": {
        "colab": {
          "base_uri": "https://localhost:8080/"
        },
        "id": "nBJKFX2OWD-R",
        "outputId": "96b1b0d5-6b9d-4a0d-9a84-0321c356a906"
      },
      "outputs": [
        {
          "data": {
            "text/plain": [
              "(2005, 192, 192, 3)"
            ]
          },
          "execution_count": 26,
          "metadata": {},
          "output_type": "execute_result"
        }
      ],
      "source": [
        "resized_x_test.shape"
      ]
    },
    {
      "cell_type": "markdown",
      "metadata": {},
      "source": [
        "Taking the predictions made by different models into account"
      ]
    },
    {
      "cell_type": "code",
      "execution_count": null,
      "metadata": {
        "colab": {
          "base_uri": "https://localhost:8080/"
        },
        "execution": {
          "iopub.execute_input": "2023-10-15T21:47:06.641649Z",
          "iopub.status.busy": "2023-10-15T21:47:06.641315Z",
          "iopub.status.idle": "2023-10-15T21:47:09.622602Z",
          "shell.execute_reply": "2023-10-15T21:47:09.621459Z",
          "shell.execute_reply.started": "2023-10-15T21:47:06.641621Z"
        },
        "id": "Ef6Uye5aUhny",
        "outputId": "1489db0b-cd02-4472-8431-33ecef3eccb1",
        "trusted": true
      },
      "outputs": [
        {
          "name": "stdout",
          "output_type": "stream",
          "text": [
            "63/63 [==============================] - 4s 62ms/step\n",
            "63/63 [==============================] - 7s 66ms/step\n"
          ]
        }
      ],
      "source": [
        "predictions = np.zeros((len(resized_x_test), num_classes))\n",
        "\n",
        "model_predictions1 = model1.predict(resized_x_test)\n",
        "predictions += model_predictions1\n",
        "model_predictions2 = model2.predict(resized_x_test)\n",
        "predictions += model_predictions2"
      ]
    },
    {
      "cell_type": "code",
      "execution_count": null,
      "metadata": {
        "colab": {
          "base_uri": "https://localhost:8080/"
        },
        "execution": {
          "iopub.execute_input": "2023-10-15T21:40:48.904497Z",
          "iopub.status.busy": "2023-10-15T21:40:48.904156Z",
          "iopub.status.idle": "2023-10-15T21:40:48.910654Z",
          "shell.execute_reply": "2023-10-15T21:40:48.909792Z",
          "shell.execute_reply.started": "2023-10-15T21:40:48.904470Z"
        },
        "id": "hM1aSiY2Uhnz",
        "outputId": "0483c790-35f5-4692-ce11-3cb4ecf6b587",
        "trusted": true
      },
      "outputs": [
        {
          "data": {
            "text/plain": [
              "(2005, 7)"
            ]
          },
          "execution_count": 28,
          "metadata": {},
          "output_type": "execute_result"
        }
      ],
      "source": [
        "model_predictions1.shape\n",
        "model_predictions2.shape"
      ]
    },
    {
      "cell_type": "markdown",
      "metadata": {},
      "source": [
        "Product Rule Ensemble"
      ]
    },
    {
      "cell_type": "code",
      "execution_count": null,
      "metadata": {
        "colab": {
          "base_uri": "https://localhost:8080/"
        },
        "execution": {
          "iopub.execute_input": "2023-10-15T21:43:18.655604Z",
          "iopub.status.busy": "2023-10-15T21:43:18.655259Z",
          "iopub.status.idle": "2023-10-15T21:43:18.690256Z",
          "shell.execute_reply": "2023-10-15T21:43:18.688894Z",
          "shell.execute_reply.started": "2023-10-15T21:43:18.655576Z"
        },
        "id": "L4TwnbU8Uhn1",
        "outputId": "28561637-9618-45e4-ddd5-cb81b447e54a",
        "trusted": true
      },
      "outputs": [
        {
          "name": "stdout",
          "output_type": "stream",
          "text": [
            "Product Rule Ensemble Accuracy: 0.7945137157107232\n"
          ]
        }
      ],
      "source": [
        "# Apply product rule ensemble\n",
        "ensemble_predictions_product_rule = np.multiply(model_predictions1, model_predictions2)\n",
        "ensemble_predictions_pr = np.argmax(ensemble_predictions_product_rule, axis=1)\n",
        "from sklearn.metrics import accuracy_score\n",
        "y_true = y_test\n",
        "accuracy = accuracy_score(y_true, ensemble_predictions_pr)\n",
        "print(\"Product Rule Ensemble Accuracy:\", accuracy)"
      ]
    },
    {
      "cell_type": "code",
      "execution_count": null,
      "metadata": {
        "colab": {
          "base_uri": "https://localhost:8080/"
        },
        "execution": {
          "iopub.execute_input": "2023-10-15T21:43:51.642242Z",
          "iopub.status.busy": "2023-10-15T21:43:51.641913Z",
          "iopub.status.idle": "2023-10-15T21:43:51.674403Z",
          "shell.execute_reply": "2023-10-15T21:43:51.673104Z",
          "shell.execute_reply.started": "2023-10-15T21:43:51.642216Z"
        },
        "id": "ljfvjMgcUhn1",
        "outputId": "bc8c4d17-797d-41f8-e3d5-59e1eec42ec3",
        "trusted": true
      },
      "outputs": [
        {
          "name": "stdout",
          "output_type": "stream",
          "text": [
            "              precision    recall  f1-score   support\n",
            "\n",
            "           0       0.49      0.55      0.51        66\n",
            "           1       0.57      0.70      0.63       103\n",
            "           2       0.61      0.50      0.55       220\n",
            "           3       0.75      0.13      0.22        23\n",
            "           4       0.64      0.38      0.47       223\n",
            "           5       0.87      0.95      0.90      1341\n",
            "           6       0.90      0.66      0.76        29\n",
            "\n",
            "    accuracy                           0.79      2005\n",
            "   macro avg       0.69      0.55      0.58      2005\n",
            "weighted avg       0.78      0.79      0.78      2005\n",
            "\n"
          ]
        }
      ],
      "source": [
        "from sklearn.metrics import classification_report\n",
        "\n",
        "classification_report_pr = classification_report(y_true, ensemble_predictions_pr)\n",
        "\n",
        "print(classification_report_pr)"
      ]
    }
  ],
  "metadata": {
    "accelerator": "GPU",
    "colab": {
      "gpuType": "T4",
      "provenance": []
    },
    "kernelspec": {
      "display_name": "Python 3",
      "name": "python3"
    },
    "language_info": {
      "codemirror_mode": {
        "name": "ipython",
        "version": 3
      },
      "file_extension": ".py",
      "mimetype": "text/x-python",
      "name": "python",
      "nbconvert_exporter": "python",
      "pygments_lexer": "ipython3",
      "version": "3.10.12"
    }
  },
  "nbformat": 4,
  "nbformat_minor": 0
}
