{
  "cells": [
    {
      "cell_type": "markdown",
      "metadata": {},
      "source": [
        "Required Imports"
      ]
    },
    {
      "cell_type": "code",
      "execution_count": 1,
      "metadata": {
        "id": "P2tVv6jJG0Dx"
      },
      "outputs": [],
      "source": [
        "import tensorflow as tf\n",
        "import pandas as pd\n",
        "import numpy as np\n",
        "from keras.models import Model\n",
        "from keras.preprocessing.image import ImageDataGenerator\n",
        "from keras.applications.densenet import DenseNet121\n",
        "from keras.applications.mobilenet import MobileNet\n",
        "from keras.applications.inception_v3 import InceptionV3\n",
        "from keras.applications.resnet import ResNet50\n",
        "from keras.applications.vgg16 import VGG16\n",
        "from keras.applications.vgg19 import VGG19\n",
        "from keras.applications.xception import Xception"
      ]
    },
    {
      "cell_type": "markdown",
      "metadata": {},
      "source": [
        "Getting the OCTMNIST dataset from PIP"
      ]
    },
    {
      "cell_type": "code",
      "execution_count": null,
      "metadata": {
        "id": "BrdBkPHLxLaT"
      },
      "outputs": [],
      "source": [
        "!pip install medmnist\n",
        "from medmnist import OCTMNIST\n",
        "dataset_train = OCTMNIST(split=\"train\", download=True)\n",
        "dataset_test = OCTMNIST(split=\"test\", download=True)\n",
        "dataset_validate = OCTMNIST(split=\"val\", download = True)"
      ]
    },
    {
      "cell_type": "markdown",
      "metadata": {},
      "source": [
        "Shape of the dataset-images"
      ]
    },
    {
      "cell_type": "code",
      "execution_count": null,
      "metadata": {
        "colab": {
          "base_uri": "https://localhost:8080/"
        },
        "id": "O_FJqiGCxOEM",
        "outputId": "cd932b78-a211-4c02-bd9e-2c420c1b77bf"
      },
      "outputs": [
        {
          "name": "stdout",
          "output_type": "stream",
          "text": [
            "(97477, 28, 28) (97477, 1) (28, 28)\n"
          ]
        }
      ],
      "source": [
        "x_train, y_train = dataset_train.imgs, dataset_train.labels\n",
        "x_test, y_test = dataset_test.imgs, dataset_test.labels\n",
        "x_val, y_val = dataset_validate.imgs, dataset_validate.labels\n",
        "\n",
        "print(x_train.shape, y_train.shape, x_train[0].shape)"
      ]
    },
    {
      "cell_type": "markdown",
      "metadata": {},
      "source": [
        "Preprocessing the images - Resize and 3-channel conversion"
      ]
    },
    {
      "cell_type": "code",
      "execution_count": null,
      "metadata": {
        "id": "MX0DVm1QxSVJ"
      },
      "outputs": [],
      "source": [
        "import cv2\n",
        "import numpy as np\n",
        "\n",
        "def preprocess_images(images):\n",
        "    preprocessed_images = []\n",
        "    for image in images:\n",
        "        resized_image = cv2.resize(image, (92, 92))\n",
        "        rgb_image = cv2.cvtColor(resized_image, cv2.COLOR_GRAY2RGB)\n",
        "        preprocessed_images.append(rgb_image)\n",
        "    return np.array(preprocessed_images)"
      ]
    },
    {
      "cell_type": "code",
      "execution_count": null,
      "metadata": {
        "colab": {
          "base_uri": "https://localhost:8080/"
        },
        "id": "s3acMBrgxVG5",
        "outputId": "83d57d1d-0d13-425e-d688-daf33bcaa31c"
      },
      "outputs": [
        {
          "data": {
            "text/plain": [
              "((97477, 92, 92, 3), (1000, 92, 92, 3), (10832, 92, 92, 3))"
            ]
          },
          "execution_count": 5,
          "metadata": {},
          "output_type": "execute_result"
        }
      ],
      "source": [
        "resized_x_train = preprocess_images(x_train)\n",
        "resized_x_test = preprocess_images(x_test)\n",
        "resized_x_val = preprocess_images(x_val)\n",
        "resized_x_train.shape, resized_x_test.shape, resized_x_val.shape"
      ]
    },
    {
      "cell_type": "code",
      "execution_count": null,
      "metadata": {
        "colab": {
          "base_uri": "https://localhost:8080/"
        },
        "id": "UxNHFrLLkxyE",
        "outputId": "1cf6887b-4c3b-41ce-f70d-37c49bf01744"
      },
      "outputs": [
        {
          "name": "stdout",
          "output_type": "stream",
          "text": [
            "Mounted at /content/drive\n"
          ]
        }
      ],
      "source": [
        "from google.colab import drive\n",
        "drive.mount('/content/drive')"
      ]
    },
    {
      "cell_type": "markdown",
      "metadata": {},
      "source": [
        "Loading the Models"
      ]
    },
    {
      "cell_type": "code",
      "execution_count": null,
      "metadata": {
        "id": "ihUsMuYGgJIW"
      },
      "outputs": [],
      "source": [
        "#The correct path to the trained DenseNet121 model has to be provided here\n",
        "model1 = tf.keras.models.load_model('/content/drive/MyDrive/DenseNet121_92_76.8%.h5')"
      ]
    },
    {
      "cell_type": "code",
      "execution_count": null,
      "metadata": {
        "id": "1culxEOxgNxz"
      },
      "outputs": [],
      "source": [
        "#The correct path to the trained InceptionV3 model has to be provided here\n",
        "model2 = tf.keras.models.load_model('/content/drive/MyDrive/OCTMNIST__inceptionv3.h5')"
      ]
    },
    {
      "cell_type": "code",
      "execution_count": null,
      "metadata": {
        "id": "uv3b2NHig7gf"
      },
      "outputs": [],
      "source": [
        "num_samples = len(resized_x_test)\n",
        "num_classes = 4"
      ]
    },
    {
      "cell_type": "code",
      "execution_count": null,
      "metadata": {
        "colab": {
          "base_uri": "https://localhost:8080/"
        },
        "id": "C3BGwDY2WM5b",
        "outputId": "04b86b1c-ef8e-4b23-b68b-b21858da6a39"
      },
      "outputs": [
        {
          "name": "stdout",
          "output_type": "stream",
          "text": [
            "1000\n"
          ]
        }
      ],
      "source": [
        "print(num_samples)"
      ]
    },
    {
      "cell_type": "code",
      "execution_count": null,
      "metadata": {
        "colab": {
          "base_uri": "https://localhost:8080/"
        },
        "id": "0xrIfdTShxtM",
        "outputId": "ef6eece6-673b-4407-a4f3-99d1b384fe46"
      },
      "outputs": [
        {
          "name": "stdout",
          "output_type": "stream",
          "text": [
            "32/32 [==============================] - 6s 49ms/step\n",
            "32/32 [==============================] - 0s 14ms/step\n"
          ]
        }
      ],
      "source": [
        "predictions = np.zeros((len(resized_x_test), num_classes))\n",
        "\n",
        "model_predictions1 = model1.predict(resized_x_test)\n",
        "predictions += model_predictions1\n",
        "model_predictions2 = model2.predict(resized_x_test)\n",
        "predictions += model_predictions2"
      ]
    },
    {
      "cell_type": "code",
      "execution_count": null,
      "metadata": {
        "colab": {
          "base_uri": "https://localhost:8080/"
        },
        "id": "PC2O7-pbV7-t",
        "outputId": "1cf83989-6633-4904-c44c-1d24b5012044"
      },
      "outputs": [
        {
          "data": {
            "text/plain": [
              "(1000, 4)"
            ]
          },
          "execution_count": 45,
          "metadata": {},
          "output_type": "execute_result"
        }
      ],
      "source": [
        "model_predictions1.shape"
      ]
    },
    {
      "cell_type": "markdown",
      "metadata": {},
      "source": [
        "Using Product Rule Ensemble technique"
      ]
    },
    {
      "cell_type": "code",
      "execution_count": null,
      "metadata": {
        "id": "6anlQS1RYMbQ"
      },
      "outputs": [],
      "source": [
        "ensemble_predictions_product_rule = np.multiply(model_predictions1, model_predictions2)"
      ]
    },
    {
      "cell_type": "code",
      "execution_count": null,
      "metadata": {
        "id": "PINgBdrWb7Tr"
      },
      "outputs": [],
      "source": [
        "ensemble_predictions_pr = np.argmax(ensemble_predictions_product_rule, axis=1)"
      ]
    },
    {
      "cell_type": "code",
      "execution_count": null,
      "metadata": {
        "colab": {
          "base_uri": "https://localhost:8080/"
        },
        "id": "ERaU99BkbqCg",
        "outputId": "c808825b-b2b3-4a5a-9d9e-9be3f4d40d8e"
      },
      "outputs": [
        {
          "name": "stdout",
          "output_type": "stream",
          "text": [
            "Ensemble Accuracy: 0.782\n"
          ]
        }
      ],
      "source": [
        "from sklearn.metrics import accuracy_score\n",
        "y_true = y_test\n",
        "accuracy = accuracy_score(y_true, ensemble_predictions_pr)\n",
        "print(\"Ensemble Accuracy:\", accuracy)"
      ]
    },
    {
      "cell_type": "code",
      "execution_count": null,
      "metadata": {
        "colab": {
          "base_uri": "https://localhost:8080/"
        },
        "id": "b1c-ywRYAjt2",
        "outputId": "cdc21006-c1e3-4522-b2b4-9c596743a3e0"
      },
      "outputs": [
        {
          "name": "stdout",
          "output_type": "stream",
          "text": [
            "              precision    recall  f1-score   support\n",
            "\n",
            "           0       0.65      0.97      0.78       250\n",
            "           1       0.96      0.86      0.91       250\n",
            "           2       0.98      0.32      0.49       250\n",
            "           3       0.76      0.97      0.86       250\n",
            "\n",
            "    accuracy                           0.78      1000\n",
            "   macro avg       0.84      0.78      0.76      1000\n",
            "weighted avg       0.84      0.78      0.76      1000\n",
            "\n"
          ]
        }
      ],
      "source": [
        "from sklearn.metrics import classification_report\n",
        "\n",
        "classification_report_pr = classification_report(y_true, ensemble_predictions_pr)\n",
        "\n",
        "print(classification_report_pr)"
      ]
    }
  ],
  "metadata": {
    "accelerator": "GPU",
    "colab": {
      "gpuType": "T4",
      "provenance": []
    },
    "kernelspec": {
      "display_name": "Python 3",
      "name": "python3"
    },
    "language_info": {
      "name": "python"
    }
  },
  "nbformat": 4,
  "nbformat_minor": 0
}
